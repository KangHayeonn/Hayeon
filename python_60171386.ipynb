{
  "nbformat": 4,
  "nbformat_minor": 0,
  "metadata": {
    "colab": {
      "name": "python_60171386",
      "provenance": [],
      "collapsed_sections": [],
      "authorship_tag": "ABX9TyOEOOMRWbOZNVfYjmOq6W5U",
      "include_colab_link": true
    },
    "kernelspec": {
      "name": "python3",
      "display_name": "Python 3"
    },
    "language_info": {
      "name": "python"
    }
  },
  "cells": [
    {
      "cell_type": "markdown",
      "metadata": {
        "id": "view-in-github",
        "colab_type": "text"
      },
      "source": [
        "<a href=\"https://colab.research.google.com/github/KangHayeonn/Hayeon/blob/master/python_60171386.ipynb\" target=\"_parent\"><img src=\"https://colab.research.google.com/assets/colab-badge.svg\" alt=\"Open In Colab\"/></a>"
      ]
    },
    {
      "cell_type": "code",
      "metadata": {
        "id": "FJYzBc24kMF0"
      },
      "source": [
        "# 기상청에 따른 드레스 코드"
      ],
      "execution_count": 43,
      "outputs": []
    },
    {
      "cell_type": "code",
      "metadata": {
        "colab": {
          "base_uri": "https://localhost:8080/"
        },
        "id": "vPY2CiI5kbce",
        "outputId": "db68f826-0f95-475f-a7ce-b5b1e43c8c8a"
      },
      "source": [
        "! pip install beautifulsoup4"
      ],
      "execution_count": 44,
      "outputs": [
        {
          "output_type": "stream",
          "text": [
            "Requirement already satisfied: beautifulsoup4 in /usr/local/lib/python3.7/dist-packages (4.6.3)\n"
          ],
          "name": "stdout"
        }
      ]
    },
    {
      "cell_type": "code",
      "metadata": {
        "id": "ti6FbVu0ojsh",
        "colab": {
          "base_uri": "https://localhost:8080/",
          "height": 72
        },
        "outputId": "c1f156b8-54e5-4dd9-f7f0-2913afca46eb"
      },
      "source": [
        "from google.colab import files\n",
        "from urllib import request\n",
        "from bs4 import BeautifulSoup\n",
        "import pandas as pd\n",
        "\n",
        "f = open(\"weather.csv\", \"w\")\n",
        "f.write(\"도시,날짜,날씨,최저기온,최고기온\\n\")\n",
        "\n",
        "target = request.urlopen('http://www.weather.go.kr/weather/forecast/mid-term-rss3.jsp?stnId=108')\n",
        "soup = BeautifulSoup(target, \"html.parser\")\n",
        "\n",
        "for location in soup.select(\"location\"):\n",
        "    city = location.select_one(\"city\").string\n",
        "\n",
        "    for data in location.select(\"data\"):\n",
        "      date = data.select_one(\"tmef\").string\n",
        "      weather = data.select_one(\"wf\").string\n",
        "      tmn = data.select_one(\"tmn\").string\n",
        "      tmx = data.select_one(\"tmx\").string\n",
        "      f.write(city + \",\" + date + \",\" + weather + \",\" + tmn + \",\" + tmx + \"\\n\")\n",
        "    \n",
        "files.download(\"weather.csv\")\n",
        "f.close()"
      ],
      "execution_count": 45,
      "outputs": [
        {
          "output_type": "stream",
          "text": [
            "강하연 - 파괴되었습니다.\n",
            "강하연 - 파괴되었습니다.\n",
            "강하연 - 파괴되었습니다.\n"
          ],
          "name": "stdout"
        },
        {
          "output_type": "display_data",
          "data": {
            "application/javascript": [
              "\n",
              "    async function download(id, filename, size) {\n",
              "      if (!google.colab.kernel.accessAllowed) {\n",
              "        return;\n",
              "      }\n",
              "      const div = document.createElement('div');\n",
              "      const label = document.createElement('label');\n",
              "      label.textContent = `Downloading \"${filename}\": `;\n",
              "      div.appendChild(label);\n",
              "      const progress = document.createElement('progress');\n",
              "      progress.max = size;\n",
              "      div.appendChild(progress);\n",
              "      document.body.appendChild(div);\n",
              "\n",
              "      const buffers = [];\n",
              "      let downloaded = 0;\n",
              "\n",
              "      const channel = await google.colab.kernel.comms.open(id);\n",
              "      // Send a message to notify the kernel that we're ready.\n",
              "      channel.send({})\n",
              "\n",
              "      for await (const message of channel.messages) {\n",
              "        // Send a message to notify the kernel that we're ready.\n",
              "        channel.send({})\n",
              "        if (message.buffers) {\n",
              "          for (const buffer of message.buffers) {\n",
              "            buffers.push(buffer);\n",
              "            downloaded += buffer.byteLength;\n",
              "            progress.value = downloaded;\n",
              "          }\n",
              "        }\n",
              "      }\n",
              "      const blob = new Blob(buffers, {type: 'application/binary'});\n",
              "      const a = document.createElement('a');\n",
              "      a.href = window.URL.createObjectURL(blob);\n",
              "      a.download = filename;\n",
              "      div.appendChild(a);\n",
              "      a.click();\n",
              "      div.remove();\n",
              "    }\n",
              "  "
            ],
            "text/plain": [
              "<IPython.core.display.Javascript object>"
            ]
          },
          "metadata": {
            "tags": []
          }
        },
        {
          "output_type": "display_data",
          "data": {
            "application/javascript": [
              "download(\"download_3be745b0-494e-42fa-bea7-c979b2c338d7\", \"weather.csv\", 16442)"
            ],
            "text/plain": [
              "<IPython.core.display.Javascript object>"
            ]
          },
          "metadata": {
            "tags": []
          }
        }
      ]
    },
    {
      "cell_type": "markdown",
      "metadata": {
        "id": "CgZigi3828io"
      },
      "source": [
        "**기상청 지역**\n",
        "\n",
        "서울, 인천, 수원, 파주, 이천, 평택, 춘천, 원주, 강릉, 대전, 세종, 홍성, 청주, 충주, 영동, 광주,목포, 여수, 순천, 광양, 나주, \n",
        "전주, 군산, 정읍, 남원, 고창, 무주, 부산, 울산, 창원, 진주, 거창, 통영, 대구, 안동, 포항, 경주 , 울진, 울릉도, 제주, 서귀포"
      ]
    },
    {
      "cell_type": "code",
      "metadata": {
        "id": "vU5zM_1njN-K"
      },
      "source": [
        "import pandas as pd\n",
        "\n",
        "data = pd.read_csv(\"weather.csv\", sep=\",\")\n",
        "\n",
        "'''\n",
        "class Weather: \n",
        "  def __init__(self,)\n",
        "'''\n",
        "class DressCode:\n",
        "  def __init__(self, name, city, gender, date):\n",
        "    self.name = name\n",
        "    self.city = city\n",
        "    self.gender = gender\n",
        "    self.date = date\n",
        "    print(date)\n",
        "\n",
        "    if self.city == '서울' :\n",
        "      data_city = data[data['도시']=='서울']\n",
        "      print(data_city)\n",
        "     \n",
        "      data_1 = data.iloc[0:1,1:2] #특정 날짜의 행만 읽어오기\n",
        "      data_2 = data.iloc[1:2,1:2] #특정 날짜의 행만 읽어오기\n",
        "      data_3 = data.iloc[2:3,1:2]\n",
        "      str_data_3 = str(data_3)\n",
        "      data_weather = str(data['날씨'].head(1))\n",
        "      data_tmn = data['최저기온'].head(1)\n",
        "      data_tmx = data['최고기온'].head(1)\n",
        "      data_avg = int((data_tmn + data_tmx) / 2)\n",
        "      \n",
        "      print(data_1)\n",
        "      print(data_2, type(data_2))\n",
        "      print(str_data_3 , type(str_data_3))\n",
        "   \n",
        "      \n",
        "      if self.date in str_data_3:\n",
        "        print('2021-06-15 매칭 성공')\n",
        "     \n",
        "  \n",
        "     \n",
        "      if data_avg <= 8 :\n",
        "        print('패딩 및 코트같은 겨울용 외투를 챙기세요!')\n",
        "        if '흐림' in data_weather:\n",
        "          print('우산도 챙기세요!')\n",
        "        return \n",
        "      elif 8 < data_avg <= 14 :\n",
        "        print('쌀쌀한 날씨에 대비한 얇은 겉옷 및 가디건을 추천합니다!')\n",
        "        if '흐림' in data_weather:\n",
        "            print('우산도 챙기세요!')\n",
        "        return \n",
        "      elif 14 < data_avg <= 21 :\n",
        "        print('소재가 두껍지 않은 긴팔추천합니다!')\n",
        "        if '흐림' in data_weather:\n",
        "            print('우산도 챙기세요!')\n",
        "        return \n",
        "      else : \n",
        "        print('반팔과 같은 여름용 옷을 입으세요!')\n",
        "        if '흐림' in data_weather:\n",
        "            print('우산도 챙기세요!')\n",
        "        return \n",
        "\n",
        "    elif self.city == '인천' : pass\n",
        "    elif self.city == '수원' : pass\n",
        "    elif self.city == '파주' : pass\n",
        "    elif self.city == '이천' : pass\n",
        "    elif self.city == '평택' : pass\n",
        "    elif self.city == '춘천' : pass\n",
        "    elif self.city == '원주' : pass\n",
        "    elif self.city == '강릉' : pass\n",
        "    elif self.city == '대전' : pass\n",
        "    elif self.city == '세종' : pass\n",
        "    elif self.city == '홍성' : pass\n",
        "    elif self.city == '청주' : pass\n",
        "    elif self.city == '충주' : pass\n",
        "    elif self.city == '영동' : pass\n",
        "    elif self.city == '광주' : \n",
        "      data_city = data[data['도시']=='광주']\n",
        "      print(data_city)\n",
        "\n",
        "      data_weather = str(data['날씨'].tail(1))\n",
        "      data_tmn = data['최저기온'].tail(1)\n",
        "      data_tmx = data['최고기온'].tail(1)\n",
        "      data_avg = int((data_tmn + data_tmx) / 2)\n",
        "      if data_avg <= 8 :\n",
        "        print('추움')\n",
        "        if '흐림' in data_weather or '흐리고 비' in data_weater:\n",
        "          print('우산도 챙기세요!')\n",
        "        return \n",
        "      elif 8 < data_avg <= 14 :\n",
        "        print('겉옷추천')\n",
        "        if '흐림' in data_weather:\n",
        "            print('우산도 챙기세요!')\n",
        "        return \n",
        "      elif 14 < data_avg <= 21 :\n",
        "        print('긴팔추천')\n",
        "        if '흐림' in data_weather:\n",
        "            print('우산도 챙기세요!')\n",
        "        return \n",
        "      else : \n",
        "        print('반팔')\n",
        "        if '흐림' in data_weather:\n",
        "            print('우산도 챙기세요!')\n",
        "        return \n",
        "    elif self.city == '목포' : pass\n",
        "    elif self.city == '여수' : pass\n",
        "    elif self.city == '순천' : pass\n",
        "    elif self.city == '광양' : pass\n",
        "    elif self.city == '나주' : pass\n",
        "    elif self.city == '전주' : pass\n",
        "    elif self.city == '군산' : pass\n",
        "    elif self.city == '정읍' : pass\n",
        "    elif self.city == '남원' : pass\n",
        "    elif self.city == '고창' : pass\n",
        "    elif self.city == '무주' : pass\n",
        "    elif self.city == '부산' : pass\n",
        "    elif self.city == '울산' : pass\n",
        "    elif self.city == '창원' : pass\n",
        "    elif self.city == '진주' : pass\n",
        "    elif self.city == '거창' : pass\n",
        "    elif self.city == '통영' : pass\n",
        "    elif self.city == '대구' : pass \n",
        "    elif self.city == '안동' : pass\n",
        "    elif self.city == '포항' : pass\n",
        "    elif self.city == '경주' : pass\n",
        "    elif self.city == '울진' : pass\n",
        "    elif self.city == '울릉도' : pass\n",
        "    elif self.city == '제주' : pass\n",
        "    elif self.city == '서귀포' : pass\n",
        "    else:\n",
        "      pass\n",
        "    print(\"{} - 생성되었습니다.\" .format(self.name))\n",
        "\n",
        "  def __del__(self): # 소멸자 함수\n",
        "    print(\"{} - 파괴되었습니다.\" .format(self.name))"
      ],
      "execution_count": 58,
      "outputs": []
    },
    {
      "cell_type": "code",
      "metadata": {
        "id": "tpd8JMB2qBIO"
      },
      "source": [
        "import pandas as pd\n",
        "\n",
        "data = pd.read_csv(\"weather.csv\", sep=\",\")\n",
        "\n",
        "class DressCode:\n",
        "  def __init__(self, name, city, gender, date):\n",
        "    self.name = name\n",
        "    self.city = city\n",
        "    self.gender = gender\n",
        "    self.date = date\n",
        "\n",
        "    if self.city == '서울' :\n",
        "      data_city = data[data['도시']=='서울']\n",
        "      print()\n",
        "      print(data_city)\n",
        "     \n",
        "      for i in range(0,13):\n",
        "        data_date = str(data.iloc[i:i+1, 1:2])  # 특정 날짜의 행만 읽어옴\n",
        "        \n",
        "        if self.date in data_date :\n",
        "          data_weather = str(data.iloc[i:i+1, 2:3])  # 위의 날짜의 날씨를 불러옴\n",
        "          data_tmn = data['최저기온'].head(1)           # 최저기온을 불러옴\n",
        "          data_tmx = data['최고기온'].head(1)           # 최고기온을 불러옴\n",
        "          data_avg = int((data_tmn + data_tmx) / 2)\n",
        "          print()\n",
        "      \n",
        "          if data_avg <= 8 :\n",
        "            print('패딩 및 코트같은 겨울용 외투를 챙기세요!')\n",
        "            if '흐림' in data_weather or '흐리고 비' in data_weather:\n",
        "              print('우산도 챙기세요!')\n",
        "            return \n",
        "          elif 8 < data_avg <= 14 :\n",
        "            print('쌀쌀한 날씨에 대비한 얇은 겉옷 및 가디건을 추천합니다!')\n",
        "            if '흐림' in data_weather or '흐리고 비' in data_weather:\n",
        "                print('우산도 챙기세요!')\n",
        "            return \n",
        "          elif 14 < data_avg <= 21 :\n",
        "            print('소재가 두껍지 않은 긴팔추천합니다!')\n",
        "            if '흐림' in data_weather or '흐리고 비' in data_weather:\n",
        "                print('우산도 챙기세요!')\n",
        "            return \n",
        "          else : \n",
        "            print('반팔과 같은 여름용 옷을 입으세요!')\n",
        "            if '흐림' in data_weather or '흐리고 비' in data_weather:\n",
        "                print('우산도 챙기세요!')\n",
        "            return \n",
        "        else:\n",
        "          continue\n",
        "      print()\n",
        "      print(self.date , \" 날짜는 해당 기상청 자료에 없습니다.\")\n",
        "     \n",
        "\n",
        "\n",
        "    elif self.city == '인천' : pass\n",
        "    elif self.city == '수원' : pass\n",
        "    elif self.city == '파주' : pass\n",
        "    elif self.city == '이천' : pass\n",
        "    elif self.city == '평택' : pass\n",
        "    elif self.city == '춘천' : pass\n",
        "    elif self.city == '원주' : pass\n",
        "    elif self.city == '강릉' : pass\n",
        "    elif self.city == '대전' : pass\n",
        "    elif self.city == '세종' : pass\n",
        "    elif self.city == '홍성' : pass\n",
        "    elif self.city == '청주' : pass\n",
        "    elif self.city == '충주' : pass\n",
        "    elif self.city == '영동' : pass\n",
        "    elif self.city == '광주' : \n",
        "      data_city = data[data['도시']=='광주']\n",
        "      print(data_city)\n",
        "\n",
        "      data_weather = str(data['날씨'].tail(1))\n",
        "      data_tmn = data['최저기온'].tail(1)\n",
        "      data_tmx = data['최고기온'].tail(1)\n",
        "      data_avg = int((data_tmn + data_tmx) / 2)\n",
        "      if data_avg <= 8 :\n",
        "        print('추움')\n",
        "        if '흐림' in data_weather or '흐리고 비' in data_weater:\n",
        "          print('우산도 챙기세요!')\n",
        "        return \n",
        "      elif 8 < data_avg <= 14 :\n",
        "        print('겉옷추천')\n",
        "        if '흐림' in data_weather or '흐리고 비' in data_weather: \n",
        "            print('우산도 챙기세요!')\n",
        "        return \n",
        "      elif 14 < data_avg <= 21 :\n",
        "        print('긴팔추천')\n",
        "        if '흐림' in data_weather or '흐리고 비' in data_weather:\n",
        "            print('우산도 챙기세요!')\n",
        "        return \n",
        "      else : \n",
        "        print('반팔')\n",
        "        if '흐림' in data_weather or '흐리고 비' in data_weather:\n",
        "            print('우산도 챙기세요!')\n",
        "        return \n",
        "    elif self.city == '목포' : pass\n",
        "    elif self.city == '여수' : pass\n",
        "    elif self.city == '순천' : pass\n",
        "    elif self.city == '광양' : pass\n",
        "    elif self.city == '나주' : pass\n",
        "    elif self.city == '전주' : pass\n",
        "    elif self.city == '군산' : pass\n",
        "    elif self.city == '정읍' : pass\n",
        "    elif self.city == '남원' : pass\n",
        "    elif self.city == '고창' : pass\n",
        "    elif self.city == '무주' : pass\n",
        "    elif self.city == '부산' : pass\n",
        "    elif self.city == '울산' : pass\n",
        "    elif self.city == '창원' : pass\n",
        "    elif self.city == '진주' : pass\n",
        "    elif self.city == '거창' : pass\n",
        "    elif self.city == '통영' : pass\n",
        "    elif self.city == '대구' : pass \n",
        "    elif self.city == '안동' : pass\n",
        "    elif self.city == '포항' : pass\n",
        "    elif self.city == '경주' : pass\n",
        "    elif self.city == '울진' : pass\n",
        "    elif self.city == '울릉도' : pass\n",
        "    elif self.city == '제주' : pass\n",
        "    elif self.city == '서귀포' : pass\n",
        "    else:\n",
        "      pass\n",
        "\n",
        "  def __del__(self): # 소멸자 함수\n",
        "    print()"
      ],
      "execution_count": 86,
      "outputs": []
    },
    {
      "cell_type": "code",
      "metadata": {
        "id": "jB40WAjj5iwV",
        "colab": {
          "base_uri": "https://localhost:8080/"
        },
        "outputId": "465e6480-8017-4aa2-f672-18bf761289bd"
      },
      "source": [
        "import pandas as pd\n",
        "data = pd.read_csv(\"weather.csv\", sep=\",\")\n",
        "data_10 = data[data['도시']=='제주']\n",
        "data_10.values"
      ],
      "execution_count": null,
      "outputs": [
        {
          "output_type": "execute_result",
          "data": {
            "text/plain": [
              "array([['제주', '2021-06-14 00:00', '흐림', 20, 27],\n",
              "       ['제주', '2021-06-14 12:00', '흐림', 20, 27],\n",
              "       ['제주', '2021-06-15 00:00', '흐림', 21, 26],\n",
              "       ['제주', '2021-06-15 12:00', '구름많음', 21, 26],\n",
              "       ['제주', '2021-06-16 00:00', '구름많음', 21, 27],\n",
              "       ['제주', '2021-06-16 12:00', '구름많음', 21, 27],\n",
              "       ['제주', '2021-06-17 00:00', '흐림', 21, 28],\n",
              "       ['제주', '2021-06-17 12:00', '흐리고 비', 21, 28],\n",
              "       ['제주', '2021-06-18 00:00', '흐리고 비', 22, 27],\n",
              "       ['제주', '2021-06-18 12:00', '흐림', 22, 27],\n",
              "       ['제주', '2021-06-19 00:00', '구름많음', 21, 26],\n",
              "       ['제주', '2021-06-20 00:00', '구름많음', 21, 27],\n",
              "       ['제주', '2021-06-21 00:00', '흐림', 21, 27]], dtype=object)"
            ]
          },
          "metadata": {
            "tags": []
          },
          "execution_count": 26
        }
      ]
    },
    {
      "cell_type": "code",
      "metadata": {
        "colab": {
          "base_uri": "https://localhost:8080/"
        },
        "id": "2O_WCXOTE4OZ",
        "outputId": "d43354da-6d27-4e35-bf53-58b97059abd0"
      },
      "source": [
        "import pandas as pd\n",
        "data = pd.read_csv(\"weather.csv\", sep=\",\")\n",
        "data_12 = data['날씨'].tail(10)\n",
        "data_12_str = str(data_12)\n",
        "print(str(data_12))\n",
        "\n",
        "print()\n",
        "if '흐리고 비' in data_12_str or '흐림' in data_12_str:\n",
        "  print(\"33\")\n",
        "else: \n",
        "  print(\"11\")"
      ],
      "execution_count": null,
      "outputs": [
        {
          "output_type": "stream",
          "text": [
            "523     구름많음\n",
            "524     구름많음\n",
            "525     구름많음\n",
            "526       흐림\n",
            "527    흐리고 비\n",
            "528    흐리고 비\n",
            "529       흐림\n",
            "530     구름많음\n",
            "531     구름많음\n",
            "532       흐림\n",
            "Name: 날씨, dtype: object\n",
            "\n",
            "33\n"
          ],
          "name": "stdout"
        }
      ]
    },
    {
      "cell_type": "code",
      "metadata": {
        "id": "5ZLST9DiFZrr",
        "colab": {
          "base_uri": "https://localhost:8080/"
        },
        "outputId": "6d01e541-f5ac-4db8-b2d9-9983a6690af0"
      },
      "source": [
        "import time\n",
        "\n",
        "my_information = {'my_name': '', 'my_city': '', 'my_gender': '', 'my_date': ''}\n",
        "\n",
        "print('# 기상청에서 알려주는 드레스코드 프로그램 #')\n",
        "\n",
        "checkbtn = 0\n",
        "\n",
        "while checkbtn !=3 :\n",
        "  print()\n",
        "  checkbtn = int(input('실행하실 버튼 번호를 입력해주세요. (1= 정보입력 2= 드레스코드확인 3= 종료) >> '))\n",
        "\n",
        "  if checkbtn  ==1 :\n",
        "    my_name = input('이름을 입력하시오 (ex. 강하연) >> ')\n",
        "    my_city = input('사는 곳을 입력하시오(ex. 서울 인천 평택 등등) >> ')\n",
        "    my_gender = input('성별을 입력하시오 (ex. 여) >> ')\n",
        "    my_date = input('외출하실 날짜를 입력하시오 (ex. 2021-06-08) >> ')\n",
        "    \n",
        "    my_information['my_name'] = my_name\n",
        "    my_information['my_city'] = my_city\n",
        "    my_information['my_gender'] = my_gender\n",
        "    my_information['my_date'] = my_date\n",
        "\n",
        "    print(my_information)\n",
        "  \n",
        "  if checkbtn ==2:\n",
        "    try: \n",
        "      if my_name=='' or my_city=='' or my_gender=='' or my_date=='':\n",
        "        예외.발생()\n",
        "    except Exception as e:\n",
        "      print('입력된 정보값이 잘못되었습니다. 다시 입력해주시기 바랍니다.')\n",
        "    else:\n",
        "      print('드레스코드 뽑는 중입니다...')\n",
        "      time.sleep(3)\n",
        "      DressCode(my_name,my_city,my_gender,my_date)\n",
        "\n",
        "if checkbtn == 3:\n",
        "  print()\n",
        "  print('프로그램을 종료합니다. 이용해주셔서 감사합니다. ^_^')\n"
      ],
      "execution_count": 87,
      "outputs": [
        {
          "output_type": "stream",
          "text": [
            "# 기상청에서 알려주는 드레스코드 프로그램 #\n",
            "\n",
            "실행하실 버튼 번호를 입력해주세요. (1= 정보입력 2= 드레스코드확인 3= 종료) >> 1\n",
            "이름을 입력하시오 (ex. 강하연) >> 강하연\n",
            "사는 곳을 입력하시오(ex. 서울 인천 평택 등등) >> 서울\n",
            "성별을 입력하시오 (ex. 여) >> 여\n",
            "외출하실 날짜를 입력하시오 (ex. 2021-06-08) >> 2021-06-18\n",
            "{'my_name': '강하연', 'my_city': '서울', 'my_gender': '여', 'my_date': '2021-06-18'}\n",
            "\n",
            "실행하실 버튼 번호를 입력해주세요. (1= 정보입력 2= 드레스코드확인 3= 종료) >> 2\n",
            "드레스코드 뽑는 중입니다...\n",
            "\n",
            "    도시                날짜     날씨  최저기온  최고기온\n",
            "0   서울  2021-06-14 00:00   구름많음    21    31\n",
            "1   서울  2021-06-14 12:00   구름많음    21    31\n",
            "2   서울  2021-06-15 00:00   구름많음    20    30\n",
            "3   서울  2021-06-15 12:00     맑음    20    30\n",
            "4   서울  2021-06-16 00:00   구름많음    20    30\n",
            "5   서울  2021-06-16 12:00   구름많음    20    30\n",
            "6   서울  2021-06-17 00:00  흐리고 비    21    26\n",
            "7   서울  2021-06-17 12:00  흐리고 비    21    26\n",
            "8   서울  2021-06-18 00:00     흐림    20    27\n",
            "9   서울  2021-06-18 12:00     맑음    20    27\n",
            "10  서울  2021-06-19 00:00     맑음    19    28\n",
            "11  서울  2021-06-20 00:00     맑음    19    28\n",
            "12  서울  2021-06-21 00:00   구름많음    21    28\n",
            "\n",
            "반팔과 같은 여름용 옷을 입으세요!\n",
            "우산도 챙기세요!\n",
            "\n",
            "\n",
            "실행하실 버튼 번호를 입력해주세요. (1= 정보입력 2= 드레스코드확인 3= 종료) >> 3\n",
            "\n",
            "프로그램을 종료합니다. 이용해주셔서 감사합니다. ^_^\n"
          ],
          "name": "stdout"
        }
      ]
    },
    {
      "cell_type": "code",
      "metadata": {
        "id": "fr-YLa7zdxc1"
      },
      "source": [
        ""
      ],
      "execution_count": null,
      "outputs": []
    }
  ]
}